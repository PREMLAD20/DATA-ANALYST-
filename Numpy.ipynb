{
 "cells": [
  {
   "cell_type": "code",
   "execution_count": 2,
   "id": "6bbd0ff7-c93c-4afe-b3ce-e805c9aaa6b5",
   "metadata": {},
   "outputs": [],
   "source": [
    "import numpy as np"
   ]
  },
  {
   "cell_type": "code",
   "execution_count": 8,
   "id": "d60ffc63-c54c-45d6-8679-904526aee35f",
   "metadata": {},
   "outputs": [
    {
     "name": "stdout",
     "output_type": "stream",
     "text": [
      "[1 2 3 4 5]\n",
      "<class 'numpy.ndarray'>\n",
      "(5,)\n"
     ]
    }
   ],
   "source": [
    "# create a 1D array\n",
    "arr1=np.array([1,2,3,4,5])\n",
    "print(arr1)\n",
    "print(type(arr1))\n",
    "print(arr1.shape)"
   ]
  },
  {
   "cell_type": "code",
   "execution_count": 11,
   "id": "bf56b26d-efe5-41b3-956f-469429846231",
   "metadata": {},
   "outputs": [
    {
     "data": {
      "text/plain": [
       "array([[1, 2, 3, 4, 5]])"
      ]
     },
     "execution_count": 11,
     "metadata": {},
     "output_type": "execute_result"
    }
   ],
   "source": [
    "#reshape is used to increase dimension\n",
    "#1D to 2D means it increases of [[]] means dimension\n",
    "arr2=np.array((1,2,3,4,5))\n",
    "arr2.reshape(1,5) # 1 rows 5 columns \n",
    "\n"
   ]
  },
  {
   "cell_type": "code",
   "execution_count": 13,
   "id": "f6ef180d-f7d2-4036-9808-7c0aa1195f5c",
   "metadata": {},
   "outputs": [
    {
     "data": {
      "text/plain": [
       "(1, 5)"
      ]
     },
     "execution_count": 13,
     "metadata": {},
     "output_type": "execute_result"
    }
   ],
   "source": [
    "arr2=np.array([[1,2,3,4,5]])\n",
    "arr2.shape"
   ]
  },
  {
   "cell_type": "code",
   "execution_count": 15,
   "id": "686a150c-3c81-4564-abed-0f9a62c55342",
   "metadata": {},
   "outputs": [
    {
     "name": "stdout",
     "output_type": "stream",
     "text": [
      "[[1 2 3 4 5]\n",
      " [6 7 8 9 6]]\n",
      "(2, 5)\n"
     ]
    }
   ],
   "source": [
    "#2D Array\n",
    "arr2=np.array([[1,2,3,4,5],[6,7,8,9,6]])\n",
    "print(arr2)\n",
    "print(arr2.shape)"
   ]
  },
  {
   "cell_type": "code",
   "execution_count": 17,
   "id": "81085363-030d-48f2-884c-684288a85224",
   "metadata": {},
   "outputs": [
    {
     "data": {
      "text/plain": [
       "array([0, 2, 4, 6, 8])"
      ]
     },
     "execution_count": 17,
     "metadata": {},
     "output_type": "execute_result"
    }
   ],
   "source": [
    "#means last element will divides i.e 2\n",
    "np.arange(0,10,2)"
   ]
  },
  {
   "cell_type": "code",
   "execution_count": 18,
   "id": "71a5730c-0bee-4e90-98ee-8422626023a7",
   "metadata": {},
   "outputs": [
    {
     "data": {
      "text/plain": [
       "array([[0],\n",
       "       [2],\n",
       "       [4],\n",
       "       [6],\n",
       "       [8]])"
      ]
     },
     "execution_count": 18,
     "metadata": {},
     "output_type": "execute_result"
    }
   ],
   "source": [
    "np.arange(0,10,2).reshape(5,1)"
   ]
  },
  {
   "cell_type": "code",
   "execution_count": 20,
   "id": "1e12e874-4383-4368-8c8b-164e3d79fe54",
   "metadata": {},
   "outputs": [
    {
     "data": {
      "text/plain": [
       "array([[1., 1., 1., 1.],\n",
       "       [1., 1., 1., 1.],\n",
       "       [1., 1., 1., 1.]])"
      ]
     },
     "execution_count": 20,
     "metadata": {},
     "output_type": "execute_result"
    }
   ],
   "source": [
    "np.ones((3,4))"
   ]
  },
  {
   "cell_type": "code",
   "execution_count": 22,
   "id": "61dcb0b5-6760-4896-b46b-ae406e1bc693",
   "metadata": {},
   "outputs": [
    {
     "data": {
      "text/plain": [
       "array([[1., 0., 0.],\n",
       "       [0., 1., 0.],\n",
       "       [0., 0., 1.]])"
      ]
     },
     "execution_count": 22,
     "metadata": {},
     "output_type": "execute_result"
    }
   ],
   "source": [
    "# identity matrix \n",
    "np.eye(3)"
   ]
  },
  {
   "cell_type": "code",
   "execution_count": 25,
   "id": "938e5844-2251-42f8-8892-ba6b61864178",
   "metadata": {},
   "outputs": [
    {
     "name": "stdout",
     "output_type": "stream",
     "text": [
      "Array:\n",
      " [[1 2 3]\n",
      " [4 5 6]]\n",
      "Shape: (2, 3)\n",
      "Number of dimensions: 2\n",
      "Size (number of elements): 6\n",
      "Data Type: int32\n",
      "Item Size(in bytes): 4\n"
     ]
    }
   ],
   "source": [
    "# Attrbutes\n",
    "arr = np.array([[1,2,3],[4,5,6]])\n",
    "\n",
    "print(\"Array:\\n\",arr)\n",
    "print(\"Shape:\",arr.shape)  #Output:(2,3)\n",
    "print(\"Number of dimensions:\",arr.ndim) #Output:2\n",
    "print(\"Size (number of elements):\",arr.size) #Output:6\n",
    "print(\"Data Type:\",arr.dtype) #Output:int 32\n",
    "print(\"Item Size(in bytes):\",arr.itemsize)  # Output:8 "
   ]
  },
  {
   "cell_type": "code",
   "execution_count": 27,
   "id": "8b3ce7df-9410-4cae-9946-8021a181b624",
   "metadata": {},
   "outputs": [
    {
     "name": "stdout",
     "output_type": "stream",
     "text": [
      "Addition [11 22 33 44 55]\n",
      "Substraction [ -9 -18 -27 -36 -45]\n",
      "Multiplication [ 10  40  90 160 250]\n",
      "Division [0.1 0.1 0.1 0.1 0.1]\n"
     ]
    }
   ],
   "source": [
    "# Numpy Vectorized Operation \n",
    "arr1=np.array([1,2,3,4,5])\n",
    "arr2=np.array([10,20,30,40,50])\n",
    "\n",
    "# Element Wise Addition\n",
    "print(\"Addition\",arr1+arr2)\n",
    "\n",
    "# Element Wise Substraction\n",
    "print(\"Substraction\",arr1-arr2)\n",
    "\n",
    "# Element Wise Multiplication\n",
    "print(\"Multiplication\",arr1*arr2)\n",
    "\n",
    "# Element Wise Division\n",
    "print(\"Division\",arr1/arr2)"
   ]
  },
  {
   "cell_type": "code",
   "execution_count": 29,
   "id": "b60a33a3-fbdb-4353-b034-9b0d36a62cb1",
   "metadata": {},
   "outputs": [
    {
     "name": "stdout",
     "output_type": "stream",
     "text": [
      "[1.41421356 1.73205081 2.         2.23606798]\n",
      "[  7.3890561   20.08553692  54.59815003 148.4131591 ]\n",
      "[ 0.90929743  0.14112001 -0.7568025  -0.95892427]\n",
      "[0.69314718 1.09861229 1.38629436 1.60943791]\n"
     ]
    }
   ],
   "source": [
    "# Universal Function  \n",
    "arr=np.array([2,3,4,5])\n",
    "# Square root\n",
    "print(np.sqrt(arr))\n",
    "\n",
    "# Exponential Function\n",
    "print(np.exp(arr))\n",
    "\n",
    "#Sine\n",
    "print(np.sin(arr))\n",
    "\n",
    "#natural log\n",
    "print(np.log(arr))\n"
   ]
  },
  {
   "cell_type": "code",
   "execution_count": 32,
   "id": "b5c686f9-d46d-456d-9880-d87ccae732be",
   "metadata": {},
   "outputs": [
    {
     "name": "stdout",
     "output_type": "stream",
     "text": [
      "Array:\n",
      " [[ 1  2  3  4]\n",
      " [ 5  6  7  8]\n",
      " [ 9 10 11 12]]\n"
     ]
    }
   ],
   "source": [
    "# array slicing and Indexing\n",
    "\n",
    "arr=np.array([[1,2,3,4],[5,6,7,8],[9,10,11,12]])\n",
    "print(\"Array:\\n\",arr)"
   ]
  },
  {
   "cell_type": "code",
   "execution_count": 39,
   "id": "a298dcc5-2aff-454e-8a5b-58d2e876f5c6",
   "metadata": {},
   "outputs": [
    {
     "name": "stdout",
     "output_type": "stream",
     "text": [
      "[6 7]\n"
     ]
    }
   ],
   "source": [
    "print(arr[1,1:3])"
   ]
  },
  {
   "cell_type": "code",
   "execution_count": 40,
   "id": "47c269ba-ba1f-4ce1-aa21-6fc64450ee86",
   "metadata": {},
   "outputs": [
    {
     "name": "stdout",
     "output_type": "stream",
     "text": [
      "[[100   2   3   4]\n",
      " [  5   6   7   8]\n",
      " [  9  10  11  12]]\n"
     ]
    }
   ],
   "source": [
    "# Modify the array elements\n",
    "arr[0,0]=100\n",
    "print(arr)"
   ]
  },
  {
   "cell_type": "code",
   "execution_count": 41,
   "id": "288a824c-8ff0-433f-843b-c90f66b7ee3a",
   "metadata": {},
   "outputs": [
    {
     "name": "stdout",
     "output_type": "stream",
     "text": [
      "[[100   2   3   4]\n",
      " [100 100 100 100]\n",
      " [100 100 100 100]]\n"
     ]
    }
   ],
   "source": [
    "arr[1:]=100\n",
    "print(arr)"
   ]
  },
  {
   "cell_type": "code",
   "execution_count": 45,
   "id": "33d494a6-b8d9-4046-a003-88593556a0ce",
   "metadata": {},
   "outputs": [
    {
     "name": "stdout",
     "output_type": "stream",
     "text": [
      "Normalized data: [-1.73719807  0.93541435 -0.40089186  0.26726124  0.93541435]\n"
     ]
    }
   ],
   "source": [
    "### statistical concepts--Norma1ization\n",
    "##to have a mean Of 0 and standard deviation Of 1\n",
    "data = np.array([1,5,3,4,5])\n",
    "# Calculate the mean and standard deviation\n",
    "mean= np.mean(data)\n",
    "std_dev = np. std(data)\n",
    "# Normalize the data\n",
    "normalized_data=(data - mean) /std_dev\n",
    "print( \"Normalized data:\",normalized_data)\n",
    "# Output:\n",
    "# Normalized data:\n"
   ]
  },
  {
   "cell_type": "code",
   "execution_count": 49,
   "id": "202cad8a-6b99-4003-8ea0-d58159c37369",
   "metadata": {},
   "outputs": [
    {
     "name": "stdout",
     "output_type": "stream",
     "text": [
      "Mean: 5.5\n",
      "Median: 5.5\n",
      "Standard Deviation: 2.8722813232690143\n",
      "Variance:  8.25\n"
     ]
    }
   ],
   "source": [
    "data=np.array([1,2,3,4,5,6,7,8,9,10])\n",
    "\n",
    "# Mean\n",
    "mean=np.mean(data)\n",
    "print(\"Mean:\",mean)\n",
    "\n",
    "# Median\n",
    "median = np.median(data)\n",
    "print( \"Median:\" ,median)\n",
    "# Standard deviation\n",
    "std_dev = np.std(data)\n",
    "print(\"Standard Deviation:\",std_dev)\n",
    "# Variance\n",
    "variance = np.var(data)\n",
    "print( \"Variance: \" ,variance)\n",
    "\n"
   ]
  },
  {
   "cell_type": "code",
   "execution_count": 51,
   "id": "437fbb9d-6895-437b-9304-2b508fd1b2b4",
   "metadata": {},
   "outputs": [
    {
     "data": {
      "text/plain": [
       "array([5, 6, 7, 8])"
      ]
     },
     "execution_count": 51,
     "metadata": {},
     "output_type": "execute_result"
    }
   ],
   "source": [
    "# Logical Operation \n",
    "data=np.array([1,2,3,4,5,6,7,8,9,10])\n",
    "\n",
    "data[(data>=5)]\n",
    "\n",
    "data[(data>=5)&(data<=8)]"
   ]
  },
  {
   "cell_type": "code",
   "execution_count": null,
   "id": "fa9e4fc5-0fb7-40e1-9426-09a2ee9d3044",
   "metadata": {},
   "outputs": [],
   "source": []
  }
 ],
 "metadata": {
  "kernelspec": {
   "display_name": "Python 3 (ipykernel)",
   "language": "python",
   "name": "python3"
  },
  "language_info": {
   "codemirror_mode": {
    "name": "ipython",
    "version": 3
   },
   "file_extension": ".py",
   "mimetype": "text/x-python",
   "name": "python",
   "nbconvert_exporter": "python",
   "pygments_lexer": "ipython3",
   "version": "3.12.4"
  }
 },
 "nbformat": 4,
 "nbformat_minor": 5
}
