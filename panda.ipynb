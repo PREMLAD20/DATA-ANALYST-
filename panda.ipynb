{
 "cells": [
  {
   "cell_type": "code",
   "execution_count": 52,
   "id": "30a870fc-a604-4218-883b-62fb185d1e1e",
   "metadata": {},
   "outputs": [
    {
     "name": "stdout",
     "output_type": "stream",
     "text": [
      "Requirement already satisfied: pandas in c:\\users\\piyus\\anaconda3\\lib\\site-packages (2.2.2)\n",
      "Requirement already satisfied: numpy>=1.26.0 in c:\\users\\piyus\\anaconda3\\lib\\site-packages (from pandas) (1.26.4)\n",
      "Requirement already satisfied: python-dateutil>=2.8.2 in c:\\users\\piyus\\anaconda3\\lib\\site-packages (from pandas) (2.9.0.post0)\n",
      "Requirement already satisfied: pytz>=2020.1 in c:\\users\\piyus\\anaconda3\\lib\\site-packages (from pandas) (2024.1)\n",
      "Requirement already satisfied: tzdata>=2022.7 in c:\\users\\piyus\\anaconda3\\lib\\site-packages (from pandas) (2023.3)\n",
      "Requirement already satisfied: six>=1.5 in c:\\users\\piyus\\anaconda3\\lib\\site-packages (from python-dateutil>=2.8.2->pandas) (1.16.0)\n",
      "Note: you may need to restart the kernel to use updated packages.\n"
     ]
    }
   ],
   "source": [
    "pip install pandas\n"
   ]
  },
  {
   "cell_type": "code",
   "execution_count": 54,
   "id": "0f1ddb4c-9882-443b-9dfc-43f0f5ee6c08",
   "metadata": {},
   "outputs": [],
   "source": [
    "import pandas as pd"
   ]
  },
  {
   "cell_type": "code",
   "execution_count": 57,
   "id": "eec40319-f11e-467e-9e1d-a07c6981d1a5",
   "metadata": {},
   "outputs": [
    {
     "name": "stdout",
     "output_type": "stream",
     "text": [
      "Series \n",
      " 0    1\n",
      "1    2\n",
      "2    3\n",
      "3    4\n",
      "4    5\n",
      "dtype: int64\n"
     ]
    }
   ],
   "source": [
    "# Series\n",
    "# pandas series is a one dimensional array like object that can hold data type. It is similiar to column in a table.\n",
    "\n",
    "import pandas as pd\n",
    "data=[1,2,3,4,5]\n",
    "series=pd.Series(data)\n",
    "print(\"Series \\n\",series)"
   ]
  },
  {
   "cell_type": "code",
   "execution_count": 61,
   "id": "923f182b-828b-4d89-9c88-c5e159115f46",
   "metadata": {},
   "outputs": [
    {
     "name": "stdout",
     "output_type": "stream",
     "text": [
      "a    1\n",
      "b    2\n",
      "c    3\n",
      "dtype: int64\n"
     ]
    }
   ],
   "source": [
    "# Create Series from Dictonary\n",
    "data={'a':1,'b':2,'c':3}\n",
    "series_dict=pd.Series(data)\n",
    "print(series_dict)"
   ]
  },
  {
   "cell_type": "code",
   "execution_count": 67,
   "id": "8d49914c-cf18-4a3c-8e75-401f8e998d4e",
   "metadata": {},
   "outputs": [
    {
     "name": "stdout",
     "output_type": "stream",
     "text": [
      "      Name  Age     City\n",
      "0   Piyush   25    India\n",
      "1     Prem   30  NewYork\n",
      "2  Krishna   45   Bharat\n",
      "<class 'pandas.core.frame.DataFrame'>\n"
     ]
    }
   ],
   "source": [
    "# Dataframe\n",
    "# create a dataframe from a dict of list\n",
    "\n",
    "data={\n",
    "    'Name':['Piyush','Prem','Krishna'],\n",
    "    'Age':[25,30,45],\n",
    "    'City':['India','NewYork','Bharat']\n",
    "}\n",
    "df=pd.DataFrame(data)\n",
    "print(df)\n",
    "print(type(df))"
   ]
  },
  {
   "cell_type": "code",
   "execution_count": 64,
   "id": "7be1cdcc-cdfa-4a63-9d0c-391e6f81d48f",
   "metadata": {},
   "outputs": [
    {
     "name": "stdout",
     "output_type": "stream",
     "text": [
      "      Name  Age      City\n",
      "0   Piyush   32  Banglore\n",
      "1      RAM   32  Banglore\n",
      "2  HANUMAN   32  Banglore\n",
      "3   LAxman   32  Banglore\n",
      "<class 'pandas.core.frame.DataFrame'>\n"
     ]
    }
   ],
   "source": [
    "# create a dataframe from a list of dict\n",
    "\n",
    "data=[\n",
    "    {'Name':'Piyush','Age':32,'City':'Banglore'},\n",
    "    {'Name':'RAM','Age':32,'City':'Banglore'},\n",
    "    {'Name':'HANUMAN','Age':32,'City':'Banglore'},\n",
    "    {'Name':'LAxman','Age':32,'City':'Banglore'}\n",
    "]\n",
    "df=pd.DataFrame(data)\n",
    "print(df)\n",
    "print(type(df))\n"
   ]
  },
  {
   "cell_type": "code",
   "execution_count": 69,
   "id": "61910f18-c844-4cb2-8443-a2d20d76e6c9",
   "metadata": {},
   "outputs": [
    {
     "data": {
      "text/html": [
       "<div>\n",
       "<style scoped>\n",
       "    .dataframe tbody tr th:only-of-type {\n",
       "        vertical-align: middle;\n",
       "    }\n",
       "\n",
       "    .dataframe tbody tr th {\n",
       "        vertical-align: top;\n",
       "    }\n",
       "\n",
       "    .dataframe thead th {\n",
       "        text-align: right;\n",
       "    }\n",
       "</style>\n",
       "<table border=\"1\" class=\"dataframe\">\n",
       "  <thead>\n",
       "    <tr style=\"text-align: right;\">\n",
       "      <th></th>\n",
       "      <th>Name</th>\n",
       "      <th>Age</th>\n",
       "      <th>City</th>\n",
       "    </tr>\n",
       "  </thead>\n",
       "  <tbody>\n",
       "    <tr>\n",
       "      <th>0</th>\n",
       "      <td>Piyush</td>\n",
       "      <td>25</td>\n",
       "      <td>India</td>\n",
       "    </tr>\n",
       "    <tr>\n",
       "      <th>1</th>\n",
       "      <td>Prem</td>\n",
       "      <td>30</td>\n",
       "      <td>NewYork</td>\n",
       "    </tr>\n",
       "    <tr>\n",
       "      <th>2</th>\n",
       "      <td>Krishna</td>\n",
       "      <td>45</td>\n",
       "      <td>Bharat</td>\n",
       "    </tr>\n",
       "  </tbody>\n",
       "</table>\n",
       "</div>"
      ],
      "text/plain": [
       "      Name  Age     City\n",
       "0   Piyush   25    India\n",
       "1     Prem   30  NewYork\n",
       "2  Krishna   45   Bharat"
      ]
     },
     "execution_count": 69,
     "metadata": {},
     "output_type": "execute_result"
    }
   ],
   "source": [
    "# Acessing data from dataframe\n",
    "df"
   ]
  },
  {
   "cell_type": "code",
   "execution_count": 70,
   "id": "59093c47-d5b4-4200-b245-01c566043eac",
   "metadata": {},
   "outputs": [
    {
     "data": {
      "text/plain": [
       "0     Piyush\n",
       "1       Prem\n",
       "2    Krishna\n",
       "Name: Name, dtype: object"
      ]
     },
     "execution_count": 70,
     "metadata": {},
     "output_type": "execute_result"
    }
   ],
   "source": [
    "df['Name']"
   ]
  },
  {
   "cell_type": "code",
   "execution_count": 71,
   "id": "868dd736-fb0e-4a06-b6d1-30c8bb3490c4",
   "metadata": {},
   "outputs": [
    {
     "data": {
      "text/plain": [
       "Name    Piyush\n",
       "Age         25\n",
       "City     India\n",
       "Name: 0, dtype: object"
      ]
     },
     "execution_count": 71,
     "metadata": {},
     "output_type": "execute_result"
    }
   ],
   "source": [
    "df.loc[0]"
   ]
  },
  {
   "cell_type": "code",
   "execution_count": 72,
   "id": "33f6668c-65a7-4001-a200-281995c44f2c",
   "metadata": {},
   "outputs": [
    {
     "data": {
      "text/plain": [
       "Name    Piyush\n",
       "Age         25\n",
       "City     India\n",
       "Name: 0, dtype: object"
      ]
     },
     "execution_count": 72,
     "metadata": {},
     "output_type": "execute_result"
    }
   ],
   "source": [
    "df.iloc[0]"
   ]
  },
  {
   "cell_type": "code",
   "execution_count": 76,
   "id": "f96e1a07-0503-4311-a96c-0b2ff9765387",
   "metadata": {},
   "outputs": [
    {
     "data": {
      "text/plain": [
       "45"
      ]
     },
     "execution_count": 76,
     "metadata": {},
     "output_type": "execute_result"
    }
   ],
   "source": [
    "# Acessing a specific element\n",
    "df.at[2,'Age']"
   ]
  },
  {
   "cell_type": "code",
   "execution_count": 77,
   "id": "93324d53-09d7-4359-8ab7-5883498311f6",
   "metadata": {},
   "outputs": [
    {
     "data": {
      "text/plain": [
       "'Krishna'"
      ]
     },
     "execution_count": 77,
     "metadata": {},
     "output_type": "execute_result"
    }
   ],
   "source": [
    "df.at[2,'Name']"
   ]
  },
  {
   "cell_type": "code",
   "execution_count": 78,
   "id": "2427d51d-713e-47e8-8add-b6125b443fc8",
   "metadata": {},
   "outputs": [
    {
     "data": {
      "text/plain": [
       "'Bharat'"
      ]
     },
     "execution_count": 78,
     "metadata": {},
     "output_type": "execute_result"
    }
   ],
   "source": [
    "# Acess the element using iat\n",
    "df.iat[2,2]"
   ]
  },
  {
   "cell_type": "code",
   "execution_count": 79,
   "id": "d05c5a41-cfa4-459f-accd-4871319dc90a",
   "metadata": {},
   "outputs": [
    {
     "data": {
      "text/html": [
       "<div>\n",
       "<style scoped>\n",
       "    .dataframe tbody tr th:only-of-type {\n",
       "        vertical-align: middle;\n",
       "    }\n",
       "\n",
       "    .dataframe tbody tr th {\n",
       "        vertical-align: top;\n",
       "    }\n",
       "\n",
       "    .dataframe thead th {\n",
       "        text-align: right;\n",
       "    }\n",
       "</style>\n",
       "<table border=\"1\" class=\"dataframe\">\n",
       "  <thead>\n",
       "    <tr style=\"text-align: right;\">\n",
       "      <th></th>\n",
       "      <th>Name</th>\n",
       "      <th>Age</th>\n",
       "      <th>City</th>\n",
       "    </tr>\n",
       "  </thead>\n",
       "  <tbody>\n",
       "    <tr>\n",
       "      <th>0</th>\n",
       "      <td>Piyush</td>\n",
       "      <td>25</td>\n",
       "      <td>India</td>\n",
       "    </tr>\n",
       "    <tr>\n",
       "      <th>1</th>\n",
       "      <td>Prem</td>\n",
       "      <td>30</td>\n",
       "      <td>NewYork</td>\n",
       "    </tr>\n",
       "    <tr>\n",
       "      <th>2</th>\n",
       "      <td>Krishna</td>\n",
       "      <td>45</td>\n",
       "      <td>Bharat</td>\n",
       "    </tr>\n",
       "  </tbody>\n",
       "</table>\n",
       "</div>"
      ],
      "text/plain": [
       "      Name  Age     City\n",
       "0   Piyush   25    India\n",
       "1     Prem   30  NewYork\n",
       "2  Krishna   45   Bharat"
      ]
     },
     "execution_count": 79,
     "metadata": {},
     "output_type": "execute_result"
    }
   ],
   "source": [
    "df"
   ]
  },
  {
   "cell_type": "code",
   "execution_count": 80,
   "id": "dcca18f8-6437-4396-8d47-4c69381ea62b",
   "metadata": {},
   "outputs": [
    {
     "data": {
      "text/html": [
       "<div>\n",
       "<style scoped>\n",
       "    .dataframe tbody tr th:only-of-type {\n",
       "        vertical-align: middle;\n",
       "    }\n",
       "\n",
       "    .dataframe tbody tr th {\n",
       "        vertical-align: top;\n",
       "    }\n",
       "\n",
       "    .dataframe thead th {\n",
       "        text-align: right;\n",
       "    }\n",
       "</style>\n",
       "<table border=\"1\" class=\"dataframe\">\n",
       "  <thead>\n",
       "    <tr style=\"text-align: right;\">\n",
       "      <th></th>\n",
       "      <th>Name</th>\n",
       "      <th>Age</th>\n",
       "      <th>City</th>\n",
       "    </tr>\n",
       "  </thead>\n",
       "  <tbody>\n",
       "    <tr>\n",
       "      <th>0</th>\n",
       "      <td>Piyush</td>\n",
       "      <td>25</td>\n",
       "      <td>India</td>\n",
       "    </tr>\n",
       "    <tr>\n",
       "      <th>1</th>\n",
       "      <td>Prem</td>\n",
       "      <td>30</td>\n",
       "      <td>NewYork</td>\n",
       "    </tr>\n",
       "    <tr>\n",
       "      <th>2</th>\n",
       "      <td>Krishna</td>\n",
       "      <td>45</td>\n",
       "      <td>Bharat</td>\n",
       "    </tr>\n",
       "  </tbody>\n",
       "</table>\n",
       "</div>"
      ],
      "text/plain": [
       "      Name  Age     City\n",
       "0   Piyush   25    India\n",
       "1     Prem   30  NewYork\n",
       "2  Krishna   45   Bharat"
      ]
     },
     "execution_count": 80,
     "metadata": {},
     "output_type": "execute_result"
    }
   ],
   "source": [
    "\n",
    "# dATA MANIPULATION USING DATAFRAME\n",
    "df"
   ]
  },
  {
   "cell_type": "code",
   "execution_count": 81,
   "id": "71426a1a-e268-4170-9756-5a3f39dddd9d",
   "metadata": {},
   "outputs": [
    {
     "data": {
      "text/html": [
       "<div>\n",
       "<style scoped>\n",
       "    .dataframe tbody tr th:only-of-type {\n",
       "        vertical-align: middle;\n",
       "    }\n",
       "\n",
       "    .dataframe tbody tr th {\n",
       "        vertical-align: top;\n",
       "    }\n",
       "\n",
       "    .dataframe thead th {\n",
       "        text-align: right;\n",
       "    }\n",
       "</style>\n",
       "<table border=\"1\" class=\"dataframe\">\n",
       "  <thead>\n",
       "    <tr style=\"text-align: right;\">\n",
       "      <th></th>\n",
       "      <th>Name</th>\n",
       "      <th>Age</th>\n",
       "      <th>City</th>\n",
       "      <th>Salary</th>\n",
       "    </tr>\n",
       "  </thead>\n",
       "  <tbody>\n",
       "    <tr>\n",
       "      <th>0</th>\n",
       "      <td>Piyush</td>\n",
       "      <td>25</td>\n",
       "      <td>India</td>\n",
       "      <td>50000</td>\n",
       "    </tr>\n",
       "    <tr>\n",
       "      <th>1</th>\n",
       "      <td>Prem</td>\n",
       "      <td>30</td>\n",
       "      <td>NewYork</td>\n",
       "      <td>60000</td>\n",
       "    </tr>\n",
       "    <tr>\n",
       "      <th>2</th>\n",
       "      <td>Krishna</td>\n",
       "      <td>45</td>\n",
       "      <td>Bharat</td>\n",
       "      <td>70000</td>\n",
       "    </tr>\n",
       "  </tbody>\n",
       "</table>\n",
       "</div>"
      ],
      "text/plain": [
       "      Name  Age     City  Salary\n",
       "0   Piyush   25    India   50000\n",
       "1     Prem   30  NewYork   60000\n",
       "2  Krishna   45   Bharat   70000"
      ]
     },
     "execution_count": 81,
     "metadata": {},
     "output_type": "execute_result"
    }
   ],
   "source": [
    "df['Salary']=[50000,60000,70000]\n",
    "df"
   ]
  },
  {
   "cell_type": "code",
   "execution_count": 85,
   "id": "7067cfe3-c644-46ce-913f-aec4dd0f0dae",
   "metadata": {},
   "outputs": [],
   "source": [
    "# Remove a column\n",
    "df.drop('Salary',axis=1,inplace=True)  #inplace = permenent operation"
   ]
  },
  {
   "cell_type": "code",
   "execution_count": 86,
   "id": "841d89ee-41b7-405b-b44b-a8bba0261b9c",
   "metadata": {},
   "outputs": [
    {
     "data": {
      "text/html": [
       "<div>\n",
       "<style scoped>\n",
       "    .dataframe tbody tr th:only-of-type {\n",
       "        vertical-align: middle;\n",
       "    }\n",
       "\n",
       "    .dataframe tbody tr th {\n",
       "        vertical-align: top;\n",
       "    }\n",
       "\n",
       "    .dataframe thead th {\n",
       "        text-align: right;\n",
       "    }\n",
       "</style>\n",
       "<table border=\"1\" class=\"dataframe\">\n",
       "  <thead>\n",
       "    <tr style=\"text-align: right;\">\n",
       "      <th></th>\n",
       "      <th>Name</th>\n",
       "      <th>Age</th>\n",
       "      <th>City</th>\n",
       "    </tr>\n",
       "  </thead>\n",
       "  <tbody>\n",
       "    <tr>\n",
       "      <th>0</th>\n",
       "      <td>Piyush</td>\n",
       "      <td>25</td>\n",
       "      <td>India</td>\n",
       "    </tr>\n",
       "    <tr>\n",
       "      <th>1</th>\n",
       "      <td>Prem</td>\n",
       "      <td>30</td>\n",
       "      <td>NewYork</td>\n",
       "    </tr>\n",
       "    <tr>\n",
       "      <th>2</th>\n",
       "      <td>Krishna</td>\n",
       "      <td>45</td>\n",
       "      <td>Bharat</td>\n",
       "    </tr>\n",
       "  </tbody>\n",
       "</table>\n",
       "</div>"
      ],
      "text/plain": [
       "      Name  Age     City\n",
       "0   Piyush   25    India\n",
       "1     Prem   30  NewYork\n",
       "2  Krishna   45   Bharat"
      ]
     },
     "execution_count": 86,
     "metadata": {},
     "output_type": "execute_result"
    }
   ],
   "source": [
    "df"
   ]
  },
  {
   "cell_type": "code",
   "execution_count": 87,
   "id": "9f928590-e1b4-43db-982e-3825133e3159",
   "metadata": {},
   "outputs": [
    {
     "data": {
      "text/html": [
       "<div>\n",
       "<style scoped>\n",
       "    .dataframe tbody tr th:only-of-type {\n",
       "        vertical-align: middle;\n",
       "    }\n",
       "\n",
       "    .dataframe tbody tr th {\n",
       "        vertical-align: top;\n",
       "    }\n",
       "\n",
       "    .dataframe thead th {\n",
       "        text-align: right;\n",
       "    }\n",
       "</style>\n",
       "<table border=\"1\" class=\"dataframe\">\n",
       "  <thead>\n",
       "    <tr style=\"text-align: right;\">\n",
       "      <th></th>\n",
       "      <th>Name</th>\n",
       "      <th>Age</th>\n",
       "      <th>City</th>\n",
       "    </tr>\n",
       "  </thead>\n",
       "  <tbody>\n",
       "    <tr>\n",
       "      <th>0</th>\n",
       "      <td>Piyush</td>\n",
       "      <td>26</td>\n",
       "      <td>India</td>\n",
       "    </tr>\n",
       "    <tr>\n",
       "      <th>1</th>\n",
       "      <td>Prem</td>\n",
       "      <td>31</td>\n",
       "      <td>NewYork</td>\n",
       "    </tr>\n",
       "    <tr>\n",
       "      <th>2</th>\n",
       "      <td>Krishna</td>\n",
       "      <td>46</td>\n",
       "      <td>Bharat</td>\n",
       "    </tr>\n",
       "  </tbody>\n",
       "</table>\n",
       "</div>"
      ],
      "text/plain": [
       "      Name  Age     City\n",
       "0   Piyush   26    India\n",
       "1     Prem   31  NewYork\n",
       "2  Krishna   46   Bharat"
      ]
     },
     "execution_count": 87,
     "metadata": {},
     "output_type": "execute_result"
    }
   ],
   "source": [
    "# Add age to the column\n",
    "df['Age']=df['Age']+1 ##increment will by 1\n",
    "df"
   ]
  },
  {
   "cell_type": "code",
   "execution_count": 89,
   "id": "8e79c06f-b737-4c50-ae28-5fa8129ac401",
   "metadata": {},
   "outputs": [],
   "source": [
    "df.drop(0,inplace=True)"
   ]
  },
  {
   "cell_type": "code",
   "execution_count": 90,
   "id": "0b1efcb2-dfcb-4282-b365-9669ce08f3d5",
   "metadata": {},
   "outputs": [
    {
     "data": {
      "text/html": [
       "<div>\n",
       "<style scoped>\n",
       "    .dataframe tbody tr th:only-of-type {\n",
       "        vertical-align: middle;\n",
       "    }\n",
       "\n",
       "    .dataframe tbody tr th {\n",
       "        vertical-align: top;\n",
       "    }\n",
       "\n",
       "    .dataframe thead th {\n",
       "        text-align: right;\n",
       "    }\n",
       "</style>\n",
       "<table border=\"1\" class=\"dataframe\">\n",
       "  <thead>\n",
       "    <tr style=\"text-align: right;\">\n",
       "      <th></th>\n",
       "      <th>Name</th>\n",
       "      <th>Age</th>\n",
       "      <th>City</th>\n",
       "    </tr>\n",
       "  </thead>\n",
       "  <tbody>\n",
       "    <tr>\n",
       "      <th>1</th>\n",
       "      <td>Prem</td>\n",
       "      <td>31</td>\n",
       "      <td>NewYork</td>\n",
       "    </tr>\n",
       "    <tr>\n",
       "      <th>2</th>\n",
       "      <td>Krishna</td>\n",
       "      <td>46</td>\n",
       "      <td>Bharat</td>\n",
       "    </tr>\n",
       "  </tbody>\n",
       "</table>\n",
       "</div>"
      ],
      "text/plain": [
       "      Name  Age     City\n",
       "1     Prem   31  NewYork\n",
       "2  Krishna   46   Bharat"
      ]
     },
     "execution_count": 90,
     "metadata": {},
     "output_type": "execute_result"
    }
   ],
   "source": [
    "df"
   ]
  },
  {
   "cell_type": "code",
   "execution_count": 91,
   "id": "7cde32db-2719-4253-8c60-4e12202ed0ad",
   "metadata": {},
   "outputs": [
    {
     "name": "stdout",
     "output_type": "stream",
     "text": [
      "Data types:\n",
      " Name    object\n",
      "Age      int64\n",
      "City    object\n",
      "dtype: object\n",
      "Statistica1 summary:\n",
      "              Age\n",
      "count   2.000000\n",
      "mean   38.500000\n",
      "std    10.606602\n",
      "min    31.000000\n",
      "25%    34.750000\n",
      "50%    38.500000\n",
      "75%    42.250000\n",
      "max    46.000000\n"
     ]
    }
   ],
   "source": [
    "# Display the data types of each column\n",
    "print(\"Data types:\\n\",df. dtypes)\n",
    "# Describe the DataFrame\n",
    "print(\"Statistica1 summary:\\n\",df. describe( ) )"
   ]
  },
  {
   "cell_type": "code",
   "execution_count": null,
   "id": "361debe2-ee21-44c0-b9ea-c73fc8b3df02",
   "metadata": {},
   "outputs": [],
   "source": []
  }
 ],
 "metadata": {
  "kernelspec": {
   "display_name": "Python 3 (ipykernel)",
   "language": "python",
   "name": "python3"
  },
  "language_info": {
   "codemirror_mode": {
    "name": "ipython",
    "version": 3
   },
   "file_extension": ".py",
   "mimetype": "text/x-python",
   "name": "python",
   "nbconvert_exporter": "python",
   "pygments_lexer": "ipython3",
   "version": "3.12.4"
  }
 },
 "nbformat": 4,
 "nbformat_minor": 5
}
